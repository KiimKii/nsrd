{
 "cells": [
  {
   "cell_type": "code",
   "execution_count": 4,
   "metadata": {},
   "outputs": [],
   "source": [
    "from bs4 import BeautifulSoup\n",
    "from selenium import webdriver\n",
    "import pandas as pd\n",
    "from tqdm.notebook import tqdm\n",
    "import time\n",
    "import re\n",
    "import sys\n",
    "from selenium.webdriver.common.keys import Keys\n",
    "keys = Keys()"
   ]
  },
  {
   "cell_type": "code",
   "execution_count": 70,
   "metadata": {},
   "outputs": [],
   "source": [
    "url = 'https://search.shopping.naver.com/search/category?catId=50000003&frm=NVSHCAT&origQuery&pagingIndex=1&pagingSize=40&productSet=total&query&sort=rel&timestamp=&viewType=list' # 네이버 쇼핑 url 입력\n",
    "driver = webdriver.Chrome(\"C:/Users/Feldrance/anaconda3/chromedriver.exe\")\n",
    "driver.get(url)\n",
    "time.sleep(2)\n",
    "body = driver.find_element_by_tag_name('body')\n",
    "driver.find_element_by_xpath('//*[@id=\"__next\"]/div/div[2]/div/div[3]/div[1]/div[1]/ul/li[2]/a').click() ## 가격비교 분류\n",
    "time.sleep(2)\n",
    "driver.find_element_by_xpath('//*[@id=\"__next\"]/div/div[2]/div/div[3]/div[1]/div[1]/div/div[1]/a[5]').click() ## 리뷰 많은 순 정렬\n",
    "time.sleep(1)\n",
    "\n",
    "for i in range (0,7): # 7회 스크롤, 스크롤 하지 않을 경우 에러 발생\n",
    "    body.send_keys(Keys.PAGE_DOWN)\n",
    "    time.sleep(1)"
   ]
  },
  {
   "cell_type": "code",
   "execution_count": 71,
   "metadata": {
    "scrolled": false
   },
   "outputs": [],
   "source": [
    "p_btn = ['div[1]', 'div[2]', 'div[3]', 'div[4]', 'div[5]', 'div[6]', 'div[7]', 'div[8]', 'div[9]', 'div[10]',\n",
    "        'div[11]', 'div[12]', 'div[13]', 'div[14]', 'div[15]', 'div[16]', 'div[17]', 'div[18]','div[19]', 'div[20]',\n",
    "        'div[21]', 'div[22]', 'div[23]', 'div[24]', 'div[25]', 'div[26]', 'div[27]', 'div[28]', 'div[29]', 'div[30]',\n",
    "         'div[31]', 'div[32]', 'div[33]', 'div[34]', 'div[35]', 'div[36]', 'div[37]', 'div[38]', 'div[39]', 'div[40]',\n",
    "        ] # 카테고리 페이지당 제품 40개\n",
    "rpage_btn = ['a:nth-child(2)', 'a:nth-child(3)', 'a:nth-child(4)', 'a:nth-child(5)', 'a:nth-child(6)',\n",
    "            'a:nth-child(7)','a:nth-child(8)', 'a:nth-child(9)', 'a:nth-child(10)', 'a:nth-child(11)'\n",
    "            ] # 리뷰 페이지 10페이지\n",
    "for i in p_btn:\n",
    "    a = \"//*[@id=\\\"__next\\\"]/div/div[2]/div/div[3]/div[1]/ul/div/\" + i + \"/li/div[1]/div[2]/div[1]/a\"\n",
    "    driver.find_element_by_xpath(a).click() ## 제품 페이지 열기\n",
    "    time.sleep(2)\n",
    "\n",
    "    rating_list = [] # 제품 바뀔때마다 리스트 초기화\n",
    "    review_list = [] # 제품 바뀔때마다 리스트 초기화\n",
    "    label_list = [] # 제품 바뀔때마다 리스트 초기화\n",
    "    driver.switch_to.window(driver.window_handles[1]) # 크롤링 할 새 창으로 창 전환\n",
    "    html = driver.page_source\n",
    "    soup = BeautifulSoup(html, \"html.parser\")\n",
    "    pname = soup.find_all('h2')[2].text # 제품명 크롤링 (엑셀 저장시 사용)\n",
    "    pname = pname.replace(\"/\", \"\") # 제품명에 '/' 존재시 에러 발생하므로 제거\n",
    "\n",
    "    for pagenum in rpage_btn:\n",
    "        driver.find_element_by_css_selector('#section_review > div.pagination_pagination__2M9a4 > '+pagenum).send_keys(keys.ENTER) # 리뷰 페이지 넘김\n",
    "        time.sleep(2)\n",
    "        for i in range(0,20):  # 제품 페이지 당 리뷰 20개\n",
    "            review = soup.find_all('p', class_='reviewItems_text__XIsTc')\n",
    "            review = review[i].text\n",
    "            review = re.sub('[^#0-9a-zA-Zr-ㅣ가-힣 ]',\"\",review) # 불필요한 문자 제거\n",
    "            review_list.append(review)\n",
    "            rating = int(soup.find('div', class_='reviewItems_etc_area__2P8i3').get_text()[2]) # 평점\n",
    "            rating_list.append(rating)\n",
    "            if int(rating) >= 3:\n",
    "                label = 1\n",
    "            else:\n",
    "                label = 0\n",
    "            label_list.append(label)\n",
    "            \n",
    "driver.close() # 크롤링 종료 시 창 종료\n",
    "driver.switch_to.window(driver.window_handles[0]) # 기본 카테고리 창으로 전환\n",
    "res = pd.DataFrame({'ratings': rating_list, 'reviews': review_list, 'label': label_list})\n",
    "res.to_excel(pname + ' review_crawling.xlsx') # 엑셀로 출력"
   ]
  },
  {
   "cell_type": "code",
   "execution_count": null,
   "metadata": {},
   "outputs": [],
   "source": []
  }
 ],
 "metadata": {
  "kernelspec": {
   "display_name": "Python 3",
   "language": "python",
   "name": "python3"
  },
  "language_info": {
   "codemirror_mode": {
    "name": "ipython",
    "version": 3
   },
   "file_extension": ".py",
   "mimetype": "text/x-python",
   "name": "python",
   "nbconvert_exporter": "python",
   "pygments_lexer": "ipython3",
   "version": "3.8.5"
  }
 },
 "nbformat": 4,
 "nbformat_minor": 4
}
