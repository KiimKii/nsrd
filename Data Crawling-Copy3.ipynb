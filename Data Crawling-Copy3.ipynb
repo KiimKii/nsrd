{
 "cells": [
  {
   "cell_type": "code",
   "execution_count": 2,
   "metadata": {},
   "outputs": [],
   "source": [
    "from bs4 import BeautifulSoup\n",
    "from selenium import webdriver\n",
    "import pandas as pd\n",
    "from tqdm.notebook import tqdm\n",
    "import time\n",
    "import re\n",
    "import sys\n",
    "from selenium.webdriver.common.keys import Keys\n",
    "keys = Keys()"
   ]
  },
  {
   "cell_type": "code",
   "execution_count": 3,
   "metadata": {},
   "outputs": [],
   "source": [
    "url = 'https://search.shopping.naver.com/search/all?query=%EB%AC%B4%EC%84%A0%EC%9D%B4%EC%96%B4%ED%8F%B0&cat_id=&frm=NVSHATC' # 네이버 쇼핑 카테고리 url 입력\n",
    "driver = webdriver.Chrome(\"C:/Users/Feldrance/anaconda3/chromedriver.exe\")\n",
    "driver.get(url)\n",
    "time.sleep(2)\n",
    "body = driver.find_element_by_tag_name('body')\n",
    "driver.find_element_by_xpath('//*[@id=\"__next\"]/div/div[2]/div/div[3]/div[1]/div[1]/ul/li[2]/a').click() ## 가격비교 분류\n",
    "time.sleep(2)\n",
    "driver.find_element_by_xpath('//*[@id=\"__next\"]/div/div[2]/div/div[3]/div[1]/div[1]/div/div[1]/a[5]').click() ## 리뷰 많은 순 정렬\n",
    "time.sleep(1)\n",
    "\n",
    "for i in range (0,7): # 7회 스크롤, 스크롤 하지 않을 경우 에러 발생\n",
    "    body.send_keys(Keys.PAGE_DOWN)\n",
    "    time.sleep(1)"
   ]
  },
  {
   "cell_type": "code",
   "execution_count": 4,
   "metadata": {
    "scrolled": true
   },
   "outputs": [],
   "source": [
    "p_btn = [] # 카테고리 페이지 내 제품\n",
    "rpage_btn = [] # 리뷰 페이지\n",
    "\n",
    "for i in range(1,41): # 카테고리 내에서 크롤링 할 제품 개수 (현재 40개)\n",
    "    p_btn.append('div[' + str(i) + ']') \n",
    "\n",
    "for i in range(2,12): # 제품 당 크롤링 할 리뷰 페이지 수(페이지 당 리뷰 20개)\n",
    "    rpage_btn.append('a:nth-child(' + str(i) + ')')\n",
    "\n",
    "for i in p_btn:\n",
    "    a = \"//*[@id=\\\"__next\\\"]/div/div[2]/div/div[3]/div[1]/ul/div/\" + i + \"/li/div[1]/div[2]/div[1]/a\"\n",
    "    driver.find_element_by_xpath(a).click() ## 제품 페이지 열기\n",
    "    time.sleep(2)\n",
    "\n",
    "    rating_list = [] # 제품 바뀔때마다 리스트 초기화\n",
    "    review_list = [] # 제품 바뀔때마다 리스트 초기화\n",
    "    label_list = [] # 제품 바뀔때마다 리스트 초기화\n",
    "    driver.switch_to.window(driver.window_handles[1]) # 크롤링 할 새 창으로 창 전환\n",
    "    html = driver.page_source\n",
    "    soup = BeautifulSoup(html, \"html.parser\")\n",
    "    pname = soup.find_all('h2')[2].text # 제품명 크롤링 (엑셀 저장시 사용)\n",
    "    pname = pname.replace(\"/\", \"\") # 제품명에 '/' 존재시 에러 발생하므로 제거\n",
    "    for i in range(0, 5): # 리뷰 페이지 10개(10, 20, 30...) 크롤링 마다 다음(11~, 21~, 31~로 넘김, 현재 50페이지까지 크롤링)\n",
    "        for pagenum in rpage_btn:\n",
    "            driver.find_element_by_css_selector('#section_review > div.pagination_pagination__2M9a4 > '+pagenum).send_keys(keys.ENTER) # 리뷰 페이지 넘김\n",
    "            time.sleep(2)\n",
    "            for i in range(0,20):  # 제품 페이지 당 리뷰 20개\n",
    "                review = driver.find_element_by_xpath('//*[@id=\"section_review\"]/ul/li[' + str(i+1) + ']/div[2]/div[1]/p').text\n",
    "                review = re.sub('[^#0-9a-zA-Zr-ㅣ가-힣 ]',\"\",review) # 불필요한 문자 제거\n",
    "                review_list.append(review)\n",
    "                rating = int(driver.find_element_by_xpath('//*[@id=\"section_review\"]/ul/li[' + str(i+1) + ']/div[1]').text[2]) # 평점 크롤링\n",
    "                rating_list.append(rating)\n",
    "                if rating >= 3:\n",
    "                    label = 1\n",
    "                else:\n",
    "                    label = 0\n",
    "                label_list.append(label)\n",
    "        driver.find_element_by_css_selector('#section_review > div.pagination_pagination__2M9a4 > a.pagination_next__3ycRH').send_keys(keys.ENTER) # 페이지 10개 크롤링 후 다음으로 넘김\n",
    "        \n",
    "driver.close() # 크롤링 종료 시 창 종료\n",
    "driver.switch_to.window(driver.window_handles[0]) # 기본 카테고리 창으로 전환\n",
    "res = pd.DataFrame({'ratings': rating_list, 'reviews': review_list, 'label': label_list})\n",
    "res.to_excel(pname + ' review_crawling.xlsx') # 엑셀로 출력"
   ]
  }
 ],
 "metadata": {
  "kernelspec": {
   "display_name": "Python 3",
   "language": "python",
   "name": "python3"
  },
  "language_info": {
   "codemirror_mode": {
    "name": "ipython",
    "version": 3
   },
   "file_extension": ".py",
   "mimetype": "text/x-python",
   "name": "python",
   "nbconvert_exporter": "python",
   "pygments_lexer": "ipython3",
   "version": "3.8.5"
  }
 },
 "nbformat": 4,
 "nbformat_minor": 4
}
